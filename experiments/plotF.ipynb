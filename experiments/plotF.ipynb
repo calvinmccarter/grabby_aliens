{
 "cells": [
  {
   "cell_type": "code",
   "execution_count": 7,
   "metadata": {},
   "outputs": [],
   "source": [
    "import matplotlib.pyplot as plt\n",
    "import matplotlib as mpl\n",
    "import numpy as np\n",
    "import pandas as pd\n",
    "import seaborn as sns\n",
    "import scipy.interpolate as spi"
   ]
  },
  {
   "cell_type": "code",
   "execution_count": 2,
   "metadata": {},
   "outputs": [],
   "source": [
    "D = 3\n",
    "N = 1e8\n",
    "true_nlist = [1.5, 2, 4, 8, 16]\n",
    "#true_nlist = list(range(2, 21))\n",
    "true_nlist = [1.5, 3, 6, 12, 24]\n",
    "m = 2/3\n",
    "# wrong_nlist = [round((tnn-2*m)/(1-m),4) for tnn in true_nlist]\n",
    "nlist = [round(tnn/(1-m)-1, 4) for tnn in true_nlist]\n",
    "s = 1.0\n",
    "sclist = [0.01, 0.1, 0.2, 0.3, 0.4, 0.5, 0.6, 0.7, 0.8, 0.9, 0.99]\n",
    "sclist = [0.1, 0.5]\n",
    "L = 1.0\n",
    "num_empty = 200\n",
    "res_dir = 'nsc-setisaturday-numempty200'\n",
    "randix = 0"
   ]
  },
  {
   "cell_type": "code",
   "execution_count": 3,
   "metadata": {},
   "outputs": [],
   "source": [
    "plot_data = {}\n",
    "cmap = plt.get_cmap('viridis')\n",
    "mycols = cmap(np.linspace(0, 1, len(nlist)))\n",
    "scstyles = ['-', '-.', ':']\n",
    "for sc in sclist:\n",
    "    c = s / sc\n",
    "    for nix, n in enumerate(nlist):\n",
    "        true_n = true_nlist[nix]\n",
    "        fout = (\n",
    "            f\"{res_dir}/D={D}_n={float(n)}_N={N:.2e}_\"\n",
    "            f\"s={s:.1f}_L={L:.1f}_c={c:.5e}_r={randix}\"\n",
    "        )\n",
    "        res = pd.read_csv(fout+'.csv')\n",
    "        fig = plt.figure()\n",
    "        (counts, bins, patches) = plt.hist(\n",
    "            res.NumberSeen+1, cumulative=True, histtype='step', \n",
    "            density=True, bins=res.shape[0])\n",
    "        fig.clf()\n",
    "        plot_data[(true_n, sc)] = (bins[0:-1], counts)"
   ]
  },
  {
   "cell_type": "code",
   "execution_count": 8,
   "metadata": {},
   "outputs": [
    {
     "name": "stderr",
     "output_type": "stream",
     "text": [
      "<ipython-input-8-6e43d2ef6a1c>:18: RuntimeWarning: More than 20 figures have been opened. Figures created through the pyplot interface (`matplotlib.pyplot.figure`) are retained until explicitly closed and may consume too much memory. (To control this warning, see the rcParam `figure.max_open_warning`).\n",
      "  fig = plt.figure()\n"
     ]
    },
    {
     "data": {
      "text/plain": [
       "<Figure size 432x288 with 0 Axes>"
      ]
     },
     "metadata": {},
     "output_type": "display_data"
    },
    {
     "data": {
      "text/plain": [
       "<Figure size 432x288 with 0 Axes>"
      ]
     },
     "metadata": {},
     "output_type": "display_data"
    },
    {
     "data": {
      "text/plain": [
       "<Figure size 432x288 with 0 Axes>"
      ]
     },
     "metadata": {},
     "output_type": "display_data"
    },
    {
     "data": {
      "text/plain": [
       "<Figure size 432x288 with 0 Axes>"
      ]
     },
     "metadata": {},
     "output_type": "display_data"
    },
    {
     "data": {
      "text/plain": [
       "<Figure size 432x288 with 0 Axes>"
      ]
     },
     "metadata": {},
     "output_type": "display_data"
    },
    {
     "data": {
      "text/plain": [
       "<Figure size 432x288 with 0 Axes>"
      ]
     },
     "metadata": {},
     "output_type": "display_data"
    },
    {
     "data": {
      "text/plain": [
       "<Figure size 432x288 with 0 Axes>"
      ]
     },
     "metadata": {},
     "output_type": "display_data"
    },
    {
     "data": {
      "text/plain": [
       "<Figure size 432x288 with 0 Axes>"
      ]
     },
     "metadata": {},
     "output_type": "display_data"
    },
    {
     "data": {
      "text/plain": [
       "<Figure size 432x288 with 0 Axes>"
      ]
     },
     "metadata": {},
     "output_type": "display_data"
    },
    {
     "data": {
      "text/plain": [
       "<Figure size 432x288 with 0 Axes>"
      ]
     },
     "metadata": {},
     "output_type": "display_data"
    },
    {
     "data": {
      "text/plain": [
       "<Figure size 432x288 with 0 Axes>"
      ]
     },
     "metadata": {},
     "output_type": "display_data"
    },
    {
     "data": {
      "text/plain": [
       "<Figure size 432x288 with 0 Axes>"
      ]
     },
     "metadata": {},
     "output_type": "display_data"
    },
    {
     "data": {
      "text/plain": [
       "<Figure size 432x288 with 0 Axes>"
      ]
     },
     "metadata": {},
     "output_type": "display_data"
    },
    {
     "data": {
      "text/plain": [
       "<Figure size 432x288 with 0 Axes>"
      ]
     },
     "metadata": {},
     "output_type": "display_data"
    },
    {
     "data": {
      "text/plain": [
       "<Figure size 432x288 with 0 Axes>"
      ]
     },
     "metadata": {},
     "output_type": "display_data"
    },
    {
     "data": {
      "text/plain": [
       "<Figure size 432x288 with 0 Axes>"
      ]
     },
     "metadata": {},
     "output_type": "display_data"
    },
    {
     "data": {
      "text/plain": [
       "<Figure size 432x288 with 0 Axes>"
      ]
     },
     "metadata": {},
     "output_type": "display_data"
    },
    {
     "data": {
      "text/plain": [
       "<Figure size 432x288 with 0 Axes>"
      ]
     },
     "metadata": {},
     "output_type": "display_data"
    },
    {
     "data": {
      "text/plain": [
       "<Figure size 432x288 with 0 Axes>"
      ]
     },
     "metadata": {},
     "output_type": "display_data"
    },
    {
     "data": {
      "text/plain": [
       "<Figure size 432x288 with 0 Axes>"
      ]
     },
     "metadata": {},
     "output_type": "display_data"
    },
    {
     "data": {
      "text/plain": [
       "<Figure size 432x288 with 0 Axes>"
      ]
     },
     "metadata": {},
     "output_type": "display_data"
    },
    {
     "data": {
      "text/plain": [
       "<Figure size 432x288 with 0 Axes>"
      ]
     },
     "metadata": {},
     "output_type": "display_data"
    },
    {
     "data": {
      "text/plain": [
       "<Figure size 432x288 with 0 Axes>"
      ]
     },
     "metadata": {},
     "output_type": "display_data"
    },
    {
     "data": {
      "text/plain": [
       "<Figure size 432x288 with 0 Axes>"
      ]
     },
     "metadata": {},
     "output_type": "display_data"
    },
    {
     "data": {
      "text/plain": [
       "<Figure size 432x288 with 0 Axes>"
      ]
     },
     "metadata": {},
     "output_type": "display_data"
    },
    {
     "data": {
      "text/plain": [
       "<Figure size 432x288 with 0 Axes>"
      ]
     },
     "metadata": {},
     "output_type": "display_data"
    },
    {
     "data": {
      "text/plain": [
       "<Figure size 432x288 with 0 Axes>"
      ]
     },
     "metadata": {},
     "output_type": "display_data"
    },
    {
     "data": {
      "text/plain": [
       "<Figure size 432x288 with 0 Axes>"
      ]
     },
     "metadata": {},
     "output_type": "display_data"
    },
    {
     "data": {
      "text/plain": [
       "<Figure size 432x288 with 0 Axes>"
      ]
     },
     "metadata": {},
     "output_type": "display_data"
    },
    {
     "data": {
      "text/plain": [
       "<Figure size 432x288 with 0 Axes>"
      ]
     },
     "metadata": {},
     "output_type": "display_data"
    },
    {
     "data": {
      "text/plain": [
       "<Figure size 432x288 with 0 Axes>"
      ]
     },
     "metadata": {},
     "output_type": "display_data"
    },
    {
     "data": {
      "text/plain": [
       "<Figure size 432x288 with 0 Axes>"
      ]
     },
     "metadata": {},
     "output_type": "display_data"
    },
    {
     "data": {
      "text/plain": [
       "<Figure size 432x288 with 0 Axes>"
      ]
     },
     "metadata": {},
     "output_type": "display_data"
    },
    {
     "data": {
      "text/plain": [
       "<Figure size 432x288 with 0 Axes>"
      ]
     },
     "metadata": {},
     "output_type": "display_data"
    },
    {
     "data": {
      "text/plain": [
       "<Figure size 432x288 with 0 Axes>"
      ]
     },
     "metadata": {},
     "output_type": "display_data"
    },
    {
     "data": {
      "text/plain": [
       "<Figure size 432x288 with 0 Axes>"
      ]
     },
     "metadata": {},
     "output_type": "display_data"
    },
    {
     "data": {
      "text/plain": [
       "<Figure size 432x288 with 0 Axes>"
      ]
     },
     "metadata": {},
     "output_type": "display_data"
    },
    {
     "data": {
      "text/plain": [
       "<Figure size 432x288 with 0 Axes>"
      ]
     },
     "metadata": {},
     "output_type": "display_data"
    },
    {
     "data": {
      "text/plain": [
       "<Figure size 432x288 with 0 Axes>"
      ]
     },
     "metadata": {},
     "output_type": "display_data"
    },
    {
     "data": {
      "text/plain": [
       "<Figure size 432x288 with 0 Axes>"
      ]
     },
     "metadata": {},
     "output_type": "display_data"
    },
    {
     "data": {
      "text/plain": [
       "<Figure size 432x288 with 0 Axes>"
      ]
     },
     "metadata": {},
     "output_type": "display_data"
    },
    {
     "data": {
      "text/plain": [
       "<Figure size 432x288 with 0 Axes>"
      ]
     },
     "metadata": {},
     "output_type": "display_data"
    },
    {
     "data": {
      "text/plain": [
       "<Figure size 432x288 with 0 Axes>"
      ]
     },
     "metadata": {},
     "output_type": "display_data"
    },
    {
     "data": {
      "text/plain": [
       "<Figure size 432x288 with 0 Axes>"
      ]
     },
     "metadata": {},
     "output_type": "display_data"
    },
    {
     "data": {
      "text/plain": [
       "<Figure size 432x288 with 0 Axes>"
      ]
     },
     "metadata": {},
     "output_type": "display_data"
    },
    {
     "data": {
      "text/plain": [
       "<Figure size 432x288 with 0 Axes>"
      ]
     },
     "metadata": {},
     "output_type": "display_data"
    },
    {
     "data": {
      "text/plain": [
       "<Figure size 432x288 with 0 Axes>"
      ]
     },
     "metadata": {},
     "output_type": "display_data"
    },
    {
     "data": {
      "text/plain": [
       "<Figure size 432x288 with 0 Axes>"
      ]
     },
     "metadata": {},
     "output_type": "display_data"
    },
    {
     "data": {
      "text/plain": [
       "<Figure size 432x288 with 0 Axes>"
      ]
     },
     "metadata": {},
     "output_type": "display_data"
    },
    {
     "data": {
      "text/plain": [
       "<Figure size 432x288 with 0 Axes>"
      ]
     },
     "metadata": {},
     "output_type": "display_data"
    }
   ],
   "source": [
    "plot_data = {}\n",
    "cmap = plt.get_cmap('viridis')\n",
    "mycols = cmap(np.linspace(0, 1, len(nlist)))\n",
    "scstyles = ['-', '-.', ':']\n",
    "n_perms = 5\n",
    "for sc in sclist:\n",
    "    c = s / sc\n",
    "    for nix, n in enumerate(nlist):\n",
    "        interp_bins = np.linspace(0, 3000.0, 100000)\n",
    "        interp_counts = np.zeros((n_perms, 100000))\n",
    "        for randix in range(0, n_perms):\n",
    "            true_n = true_nlist[nix]\n",
    "            fout = (\n",
    "                f\"nsc-boundary/D={D}_n={float(n)}_N={N:.2e}_\"\n",
    "                f\"s={s:.1f}_L={L:.1f}_c={c:.5e}_r={randix}\"\n",
    "            )\n",
    "            res = pd.read_csv(fout+'.csv')\n",
    "            fig = plt.figure()\n",
    "            (counts, bins, patches) = plt.hist(\n",
    "                res.NumberSeen+1, cumulative=True, histtype='step', \n",
    "                density=True, bins=res.shape[0])  \n",
    "            fig.clf()\n",
    "            interp_f = spi.interp1d(bins[0:-1], counts, bounds_error=False)\n",
    "            interp_counts[randix,:] = interp_f(interp_bins)           \n",
    "        plot_data[(true_n, sc)] = (interp_bins, np.mean(interp_counts, axis=0))"
   ]
  },
  {
   "cell_type": "code",
   "execution_count": 12,
   "metadata": {},
   "outputs": [
    {
     "name": "stdout",
     "output_type": "stream",
     "text": [
      "[   1    2   10  100 1000]\n",
      "[Text(1, 0, '0'), Text(2, 0, '1'), Text(10, 0, '10'), Text(100, 0, '100'), Text(1000, 0, '1000')]\n"
     ]
    },
    {
     "data": {
      "image/png": "[encoded data removed]",
      "text/plain": [
       "<Figure size 576x288 with 1 Axes>"
      ]
     },
     "metadata": {
      "needs_background": "light"
     },
     "output_type": "display_data"
    }
   ],
   "source": [
    "fig = plt.figure(figsize=(8,4))\n",
    "ax  = fig.add_subplot(111)\n",
    "leg = []\n",
    "for scix, sc in enumerate(sclist):\n",
    "    for nix, true_n in enumerate(true_nlist):\n",
    "        (bins, counts) = plot_data[(true_n, sc)]\n",
    "        #plt.step(bins, counts, scstyles[scix], color=mycols[nix], where='post')\n",
    "        plt.plot(bins, counts, scstyles[scix], color=mycols[nix])\n",
    "        leg.append(f\"n = {true_n}, s/c = {sc:.2}\")\n",
    "ax.set_position([0.1,0.15,0.5,0.75])\n",
    "plt.gca().set_ylabel('Percentile')\n",
    "plt.gca().set_xlabel('Number of civilizations seen');\n",
    "#plt.gca().set_title(f'D={D} N={N:.2e} s={s:.1f} L={L:.1f}');\n",
    "plt.gca().set_xscale('log')\n",
    "#plt.gca().set_xticks([1, 10, 100, 1000]);\n",
    "#plt.gca().set_xticklabels(['0', '9', '99', '999']);\n",
    "#plt.gca().set_xticks([1, 2, 11, 101, 1001]);\n",
    "#plt.gca().set_xticklabels([0, 1, 10, 100, 1000]);\n",
    "#plt.gca().set_xticks([1, 2, 10, 11]);#, 1e+1, 11,  1e+2, 101, 1e+3, 1001]);\n",
    "#plt.gca().set_xticks([1e-2, 1e-1, 1, 1e+1, 1e+2, 1e+3]);\n",
    "plt.gca().set_xticks([1, 2, 10, 100, 1000]);\n",
    "plt.gca().set_xticklabels([0, '1', 10, 100, 1000]);\n",
    "plt.gca().set_xlim(1, 3000)\n",
    "plt.legend(leg, loc = 'center left', bbox_to_anchor = (1.0, 0.5))\n",
    "plt.grid(linewidth=0.1);\n",
    "fig.savefig('figures-friday/plotF.png', dpi=200);\n",
    "print(plt.gca().get_xticks())\n",
    "print(plt.gca().get_xticklabels())"
   ]
  },
  {
   "cell_type": "code",
   "execution_count": 11,
   "metadata": {},
   "outputs": [
    {
     "data": {
      "image/png": "[encoded data removed]",
      "text/plain": [
       "<Figure size 576x288 with 1 Axes>"
      ]
     },
     "metadata": {
      "needs_background": "light"
     },
     "output_type": "display_data"
    }
   ],
   "source": [
    "fig = plt.figure(figsize=(8,4))\n",
    "ax  = fig.add_subplot(111)\n",
    "leg = []\n",
    "for scix, sc in enumerate(sclist):\n",
    "    for nix, true_n in enumerate(true_nlist):\n",
    "        (bins, counts) = plot_data[(true_n, sc)]\n",
    "        #plt.step(bins, counts, scstyles[scix], color=mycols[nix], where='post')\n",
    "        plt.plot(bins, counts, scstyles[scix], color=mycols[nix])\n",
    "        leg.append(f\"n = {true_n}, s/c = {sc:.2}\")\n",
    "ax.set_position([0.1,0.15,0.5,0.75])\n",
    "plt.gca().set_ylabel('Percentile')\n",
    "plt.gca().set_xlabel('Number of civilizations seen');\n",
    "#plt.gca().set_title(f'D={D} N={N:.2e} s={s:.1f} L={L:.1f}');\n",
    "plt.gca().set_xscale('log')\n",
    "plt.gca().set_yscale('log')\n",
    "#plt.gca().set_xticks([1, 10, 100, 1000]);\n",
    "#plt.gca().set_xticklabels(['0', '9', '99', '999']);\n",
    "#plt.gca().set_xticks([1, 2, 11, 101, 1001]);\n",
    "#plt.gca().set_xticklabels([0, 1, 10, 100, 1000]);\n",
    "#plt.gca().set_xticks([1, 2, 10, 11]);#, 1e+1, 11,  1e+2, 101, 1e+3, 1001]);\n",
    "#plt.gca().set_xticks([1e-2, 1e-1, 1, 1e+1, 1e+2, 1e+3]);\n",
    "plt.gca().set_xticks([1, 2, 10, 100, 1000]);\n",
    "plt.gca().set_xticklabels([0, '1', 10, 100, 1000]);\n",
    "plt.gca().set_xlim(1, 3000)\n",
    "plt.legend(leg, loc = 'center left', bbox_to_anchor = (1.0, 0.5))\n",
    "plt.grid(linewidth=0.1);\n",
    "fig.savefig('figures-friday/plotF-loglog.png', dpi=200);"
   ]
  },
  {
   "cell_type": "code",
   "execution_count": null,
   "metadata": {},
   "outputs": [],
   "source": []
  }
 ],
 "metadata": {
  "kernelspec": {
   "display_name": "Python 3",
   "language": "python",
   "name": "python3"
  },
  "language_info": {
   "codemirror_mode": {
    "name": "ipython",
    "version": 3
   },
   "file_extension": ".py",
   "mimetype": "text/x-python",
   "name": "python",
   "nbconvert_exporter": "python",
   "pygments_lexer": "ipython3",
   "version": "3.8.5"
  }
 },
 "nbformat": 4,
 "nbformat_minor": 4
}
