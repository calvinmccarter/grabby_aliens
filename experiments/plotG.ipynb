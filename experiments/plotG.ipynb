{
 "cells": [
  {
   "cell_type": "code",
   "execution_count": 48,
   "metadata": {},
   "outputs": [],
   "source": [
    "import matplotlib.pyplot as plt\n",
    "import matplotlib as mpl\n",
    "import numpy as np\n",
    "import pandas as pd\n",
    "import seaborn as sns\n",
    "import math\n",
    "import scipy.interpolate as spi"
   ]
  },
  {
   "cell_type": "code",
   "execution_count": 27,
   "metadata": {},
   "outputs": [],
   "source": [
    "D = 3\n",
    "N = 1e8\n",
    "true_nlist = [1.5, 3, 6, 12, 24]\n",
    "m = 2/3\n",
    "nlist = [round(tnn/(1-m)-1, 4) for tnn in true_nlist]\n",
    "s = 1.0\n",
    "sclist = [0.1, 0.5, 1.0]\n",
    "sclist = [0.1, 0.5]\n",
    "L = 1.0\n",
    "num_empty = 200\n",
    "res_dir = 'nsc-setisaturday-numempty200'\n",
    "randix = 0\n",
    "\n",
    "\n",
    "moon_dia_arcminutes = 29.33;\n",
    "moon_dia_degrees = moon_dia_arcminutes * (1/60);\n",
    "moon_dia_radians = moon_dia_arcminutes * (1/60) * (math.pi/180);"
   ]
  },
  {
   "cell_type": "code",
   "execution_count": 51,
   "metadata": {},
   "outputs": [
    {
     "data": {
      "text/plain": [
       "<Figure size 432x288 with 0 Axes>"
      ]
     },
     "metadata": {},
     "output_type": "display_data"
    },
    {
     "data": {
      "text/plain": [
       "<Figure size 432x288 with 0 Axes>"
      ]
     },
     "metadata": {},
     "output_type": "display_data"
    },
    {
     "data": {
      "text/plain": [
       "<Figure size 432x288 with 0 Axes>"
      ]
     },
     "metadata": {},
     "output_type": "display_data"
    },
    {
     "data": {
      "text/plain": [
       "<Figure size 432x288 with 0 Axes>"
      ]
     },
     "metadata": {},
     "output_type": "display_data"
    },
    {
     "data": {
      "text/plain": [
       "<Figure size 432x288 with 0 Axes>"
      ]
     },
     "metadata": {},
     "output_type": "display_data"
    },
    {
     "data": {
      "text/plain": [
       "<Figure size 432x288 with 0 Axes>"
      ]
     },
     "metadata": {},
     "output_type": "display_data"
    },
    {
     "data": {
      "text/plain": [
       "<Figure size 432x288 with 0 Axes>"
      ]
     },
     "metadata": {},
     "output_type": "display_data"
    },
    {
     "data": {
      "text/plain": [
       "<Figure size 432x288 with 0 Axes>"
      ]
     },
     "metadata": {},
     "output_type": "display_data"
    },
    {
     "data": {
      "text/plain": [
       "<Figure size 432x288 with 0 Axes>"
      ]
     },
     "metadata": {},
     "output_type": "display_data"
    },
    {
     "data": {
      "text/plain": [
       "<Figure size 432x288 with 0 Axes>"
      ]
     },
     "metadata": {},
     "output_type": "display_data"
    }
   ],
   "source": [
    "plot_data = {}\n",
    "cmap = plt.get_cmap('viridis')\n",
    "mycols = cmap(np.linspace(0, 1, len(nlist)))\n",
    "scstyles = ['-', '-.', ':']\n",
    "for sc in sclist:\n",
    "    c = s / sc\n",
    "    for nix, n in enumerate(nlist):\n",
    "        true_n = true_nlist[nix]\n",
    "        fout = (\n",
    "            f\"{res_dir}/D={D}_n={float(n)}_N={N:.2e}_\"\n",
    "            f\"s={s:.1f}_L={L:.1f}_c={c:.5e}_r={randix}\"\n",
    "        )\n",
    "        res = pd.read_csv(fout+'.csv')\n",
    "        fig = plt.figure()\n",
    "        (counts, bins, patches) = plt.hist(\n",
    "            res.MaxAngle, cumulative=True, histtype='step', \n",
    "            density=True, bins=res.shape[0])\n",
    "        countsSmooth = pd.Series(data=counts).rolling(\n",
    "            window=100, min_periods=1, win_type='gaussian', center=True\n",
    "        ).mean(std=10)\n",
    "        fig.clf()\n",
    "        plot_data[(true_n, sc)] = (bins[0:-1], countsSmooth)"
   ]
  },
  {
   "cell_type": "code",
   "execution_count": 56,
   "metadata": {},
   "outputs": [
    {
     "name": "stderr",
     "output_type": "stream",
     "text": [
      "<ipython-input-56-d5c7c3406ee4>:18: RuntimeWarning: More than 20 figures have been opened. Figures created through the pyplot interface (`matplotlib.pyplot.figure`) are retained until explicitly closed and may consume too much memory. (To control this warning, see the rcParam `figure.max_open_warning`).\n",
      "  fig = plt.figure()\n"
     ]
    },
    {
     "data": {
      "text/plain": [
       "<Figure size 432x288 with 0 Axes>"
      ]
     },
     "metadata": {},
     "output_type": "display_data"
    },
    {
     "data": {
      "text/plain": [
       "<Figure size 432x288 with 0 Axes>"
      ]
     },
     "metadata": {},
     "output_type": "display_data"
    },
    {
     "data": {
      "text/plain": [
       "<Figure size 432x288 with 0 Axes>"
      ]
     },
     "metadata": {},
     "output_type": "display_data"
    },
    {
     "data": {
      "text/plain": [
       "<Figure size 432x288 with 0 Axes>"
      ]
     },
     "metadata": {},
     "output_type": "display_data"
    },
    {
     "data": {
      "text/plain": [
       "<Figure size 432x288 with 0 Axes>"
      ]
     },
     "metadata": {},
     "output_type": "display_data"
    },
    {
     "data": {
      "text/plain": [
       "<Figure size 432x288 with 0 Axes>"
      ]
     },
     "metadata": {},
     "output_type": "display_data"
    },
    {
     "data": {
      "text/plain": [
       "<Figure size 432x288 with 0 Axes>"
      ]
     },
     "metadata": {},
     "output_type": "display_data"
    },
    {
     "data": {
      "text/plain": [
       "<Figure size 432x288 with 0 Axes>"
      ]
     },
     "metadata": {},
     "output_type": "display_data"
    },
    {
     "data": {
      "text/plain": [
       "<Figure size 432x288 with 0 Axes>"
      ]
     },
     "metadata": {},
     "output_type": "display_data"
    },
    {
     "data": {
      "text/plain": [
       "<Figure size 432x288 with 0 Axes>"
      ]
     },
     "metadata": {},
     "output_type": "display_data"
    },
    {
     "data": {
      "text/plain": [
       "<Figure size 432x288 with 0 Axes>"
      ]
     },
     "metadata": {},
     "output_type": "display_data"
    },
    {
     "data": {
      "text/plain": [
       "<Figure size 432x288 with 0 Axes>"
      ]
     },
     "metadata": {},
     "output_type": "display_data"
    },
    {
     "data": {
      "text/plain": [
       "<Figure size 432x288 with 0 Axes>"
      ]
     },
     "metadata": {},
     "output_type": "display_data"
    },
    {
     "data": {
      "text/plain": [
       "<Figure size 432x288 with 0 Axes>"
      ]
     },
     "metadata": {},
     "output_type": "display_data"
    },
    {
     "data": {
      "text/plain": [
       "<Figure size 432x288 with 0 Axes>"
      ]
     },
     "metadata": {},
     "output_type": "display_data"
    },
    {
     "data": {
      "text/plain": [
       "<Figure size 432x288 with 0 Axes>"
      ]
     },
     "metadata": {},
     "output_type": "display_data"
    },
    {
     "data": {
      "text/plain": [
       "<Figure size 432x288 with 0 Axes>"
      ]
     },
     "metadata": {},
     "output_type": "display_data"
    },
    {
     "data": {
      "text/plain": [
       "<Figure size 432x288 with 0 Axes>"
      ]
     },
     "metadata": {},
     "output_type": "display_data"
    },
    {
     "data": {
      "text/plain": [
       "<Figure size 432x288 with 0 Axes>"
      ]
     },
     "metadata": {},
     "output_type": "display_data"
    },
    {
     "data": {
      "text/plain": [
       "<Figure size 432x288 with 0 Axes>"
      ]
     },
     "metadata": {},
     "output_type": "display_data"
    },
    {
     "data": {
      "text/plain": [
       "<Figure size 432x288 with 0 Axes>"
      ]
     },
     "metadata": {},
     "output_type": "display_data"
    },
    {
     "data": {
      "text/plain": [
       "<Figure size 432x288 with 0 Axes>"
      ]
     },
     "metadata": {},
     "output_type": "display_data"
    },
    {
     "data": {
      "text/plain": [
       "<Figure size 432x288 with 0 Axes>"
      ]
     },
     "metadata": {},
     "output_type": "display_data"
    },
    {
     "data": {
      "text/plain": [
       "<Figure size 432x288 with 0 Axes>"
      ]
     },
     "metadata": {},
     "output_type": "display_data"
    },
    {
     "data": {
      "text/plain": [
       "<Figure size 432x288 with 0 Axes>"
      ]
     },
     "metadata": {},
     "output_type": "display_data"
    },
    {
     "data": {
      "text/plain": [
       "<Figure size 432x288 with 0 Axes>"
      ]
     },
     "metadata": {},
     "output_type": "display_data"
    },
    {
     "data": {
      "text/plain": [
       "<Figure size 432x288 with 0 Axes>"
      ]
     },
     "metadata": {},
     "output_type": "display_data"
    },
    {
     "data": {
      "text/plain": [
       "<Figure size 432x288 with 0 Axes>"
      ]
     },
     "metadata": {},
     "output_type": "display_data"
    },
    {
     "data": {
      "text/plain": [
       "<Figure size 432x288 with 0 Axes>"
      ]
     },
     "metadata": {},
     "output_type": "display_data"
    },
    {
     "data": {
      "text/plain": [
       "<Figure size 432x288 with 0 Axes>"
      ]
     },
     "metadata": {},
     "output_type": "display_data"
    },
    {
     "data": {
      "text/plain": [
       "<Figure size 432x288 with 0 Axes>"
      ]
     },
     "metadata": {},
     "output_type": "display_data"
    },
    {
     "data": {
      "text/plain": [
       "<Figure size 432x288 with 0 Axes>"
      ]
     },
     "metadata": {},
     "output_type": "display_data"
    },
    {
     "data": {
      "text/plain": [
       "<Figure size 432x288 with 0 Axes>"
      ]
     },
     "metadata": {},
     "output_type": "display_data"
    },
    {
     "data": {
      "text/plain": [
       "<Figure size 432x288 with 0 Axes>"
      ]
     },
     "metadata": {},
     "output_type": "display_data"
    },
    {
     "data": {
      "text/plain": [
       "<Figure size 432x288 with 0 Axes>"
      ]
     },
     "metadata": {},
     "output_type": "display_data"
    },
    {
     "data": {
      "text/plain": [
       "<Figure size 432x288 with 0 Axes>"
      ]
     },
     "metadata": {},
     "output_type": "display_data"
    },
    {
     "data": {
      "text/plain": [
       "<Figure size 432x288 with 0 Axes>"
      ]
     },
     "metadata": {},
     "output_type": "display_data"
    },
    {
     "data": {
      "text/plain": [
       "<Figure size 432x288 with 0 Axes>"
      ]
     },
     "metadata": {},
     "output_type": "display_data"
    },
    {
     "data": {
      "text/plain": [
       "<Figure size 432x288 with 0 Axes>"
      ]
     },
     "metadata": {},
     "output_type": "display_data"
    },
    {
     "data": {
      "text/plain": [
       "<Figure size 432x288 with 0 Axes>"
      ]
     },
     "metadata": {},
     "output_type": "display_data"
    },
    {
     "data": {
      "text/plain": [
       "<Figure size 432x288 with 0 Axes>"
      ]
     },
     "metadata": {},
     "output_type": "display_data"
    },
    {
     "data": {
      "text/plain": [
       "<Figure size 432x288 with 0 Axes>"
      ]
     },
     "metadata": {},
     "output_type": "display_data"
    },
    {
     "data": {
      "text/plain": [
       "<Figure size 432x288 with 0 Axes>"
      ]
     },
     "metadata": {},
     "output_type": "display_data"
    },
    {
     "data": {
      "text/plain": [
       "<Figure size 432x288 with 0 Axes>"
      ]
     },
     "metadata": {},
     "output_type": "display_data"
    },
    {
     "data": {
      "text/plain": [
       "<Figure size 432x288 with 0 Axes>"
      ]
     },
     "metadata": {},
     "output_type": "display_data"
    },
    {
     "data": {
      "text/plain": [
       "<Figure size 432x288 with 0 Axes>"
      ]
     },
     "metadata": {},
     "output_type": "display_data"
    },
    {
     "data": {
      "text/plain": [
       "<Figure size 432x288 with 0 Axes>"
      ]
     },
     "metadata": {},
     "output_type": "display_data"
    },
    {
     "data": {
      "text/plain": [
       "<Figure size 432x288 with 0 Axes>"
      ]
     },
     "metadata": {},
     "output_type": "display_data"
    },
    {
     "data": {
      "text/plain": [
       "<Figure size 432x288 with 0 Axes>"
      ]
     },
     "metadata": {},
     "output_type": "display_data"
    },
    {
     "data": {
      "text/plain": [
       "<Figure size 432x288 with 0 Axes>"
      ]
     },
     "metadata": {},
     "output_type": "display_data"
    }
   ],
   "source": [
    "plot_data = {}\n",
    "cmap = plt.get_cmap('viridis')\n",
    "mycols = cmap(np.linspace(0, 1, len(nlist)))\n",
    "scstyles = ['-', '-.', ':']\n",
    "n_perms = 5\n",
    "for sc in sclist:\n",
    "    c = s / sc\n",
    "    for nix, n in enumerate(nlist):\n",
    "        interp_bins = np.linspace(0, math.pi, 100000)\n",
    "        interp_counts = np.zeros((n_perms, 100000))\n",
    "        for randix in range(0, n_perms):\n",
    "            true_n = true_nlist[nix]\n",
    "            fout = (\n",
    "                f\"nsc-boundary/D={D}_n={float(n)}_N={N:.2e}_\"\n",
    "                f\"s={s:.1f}_L={L:.1f}_c={c:.5e}_r={randix}\"\n",
    "            )\n",
    "            res = pd.read_csv(fout+'.csv')\n",
    "            fig = plt.figure()\n",
    "            (counts, bins, patches) = plt.hist(\n",
    "                res.MaxAngle, cumulative=True, histtype='step', \n",
    "                density=True, bins=res.shape[0])  \n",
    "            fig.clf()\n",
    "            interp_f = spi.interp1d(bins[0:-1], counts, bounds_error=False)\n",
    "            interp_counts[randix,:] = interp_f(interp_bins)           \n",
    "        plot_data[(true_n, sc)] = (interp_bins, np.mean(interp_counts, axis=0))"
   ]
  },
  {
   "cell_type": "code",
   "execution_count": 58,
   "metadata": {},
   "outputs": [
    {
     "data": {
      "image/png": "[encoded data removed]",
      "text/plain": [
       "<Figure size 576x288 with 1 Axes>"
      ]
     },
     "metadata": {
      "needs_background": "light"
     },
     "output_type": "display_data"
    }
   ],
   "source": [
    "fig = plt.figure(figsize=(8,4))\n",
    "ax  = fig.add_subplot(111)\n",
    "leg = []\n",
    "for scix, sc in enumerate(sclist):\n",
    "    for nix, true_n in enumerate(true_nlist):\n",
    "        (bins, counts) = plot_data[(true_n, sc)]\n",
    "        #plt.step(bins, counts, scstyles[scix], color=mycols[nix], where='post')\n",
    "        plt.plot(bins, counts, scstyles[scix], color=mycols[nix])\n",
    "        leg.append(f\"n = {true_n}, s/c = {sc:.2}\")\n",
    "#leg = [f\"n = {nn}\" for nn in true_nlist]\n",
    "plt.legend(leg, loc = 'center left', bbox_to_anchor = (1.0, 0.5))\n",
    "plt.plot([moon_dia_radians, moon_dia_radians], [-0.05, 1.05],'r', linewidth=0.5);\n",
    "ax.set_position([0.1,0.1,0.5,0.8])\n",
    "plt.gca().set_ylabel('Percentile')\n",
    "plt.gca().set_xlabel('Maximum angle of observed civilizations');\n",
    "#plt.gca().set_title(f'D={D} N={N:.2e} s={s:.1f} L={L:.1f}');\n",
    "#plt.gca().set_xscale('log')\n",
    "plt.gca().set_xticks([0, 0.5*math.pi*(1/3), 0.5*math.pi*(2/3), 0.5*math.pi*(3/3)]);\n",
    "plt.gca().set_xticklabels(['0$^\\circ$', '30$^\\circ$', '60$^\\circ$', '90$^\\circ$']);\n",
    "plt.gca().set_ylim(-0.04, 1.04)\n",
    "plt.gca().set_xlim(0, 0.5*math.pi*(3/3)*1.1);\n",
    "plt.grid(linewidth=0.1);\n",
    "plt.tight_layout(rect=(0, 0.05, 0.7, 1))\n",
    "fig.savefig('figures-friday/plotG.png', dpi=200)"
   ]
  },
  {
   "cell_type": "code",
   "execution_count": 57,
   "metadata": {},
   "outputs": [
    {
     "data": {
      "image/png": "[encoded data removed]",
      "text/plain": [
       "<Figure size 576x288 with 1 Axes>"
      ]
     },
     "metadata": {
      "needs_background": "light"
     },
     "output_type": "display_data"
    }
   ],
   "source": [
    "fig = plt.figure(figsize=(8,4))\n",
    "ax  = fig.add_subplot(111)\n",
    "leg = []\n",
    "for scix, sc in enumerate(sclist):\n",
    "    for nix, true_n in enumerate(true_nlist):\n",
    "        (bins, counts) = plot_data[(true_n, sc)]\n",
    "        #plt.step(bins, counts, scstyles[scix], color=mycols[nix], where='post')\n",
    "        plt.plot(bins, counts, scstyles[scix], color=mycols[nix])\n",
    "        leg.append(f\"n = {true_n}, s/c = {sc:.2}\")\n",
    "#leg = [f\"n = {nn}\" for nn in true_nlist]\n",
    "plt.legend(leg, loc = 'center left', bbox_to_anchor = (1.0, 0.5))\n",
    "plt.plot([moon_dia_radians, moon_dia_radians], [-0.05, 1.001],'r', linewidth=0.5);\n",
    "ax.set_position([0.1,0.1,0.5,0.8])\n",
    "plt.gca().set_ylabel('Percentile')\n",
    "plt.gca().set_xlabel('Maximum angle of observed civilizations');\n",
    "#plt.gca().set_title(f'D={D} N={N:.2e} s={s:.1f} L={L:.1f}');\n",
    "plt.gca().set_xscale('log')\n",
    "plt.gca().set_yscale('log')\n",
    "plt.gca().set_xticks([0,(10/60)*math.pi/180, 1*math.pi/180, 30*math.pi/180,90*math.pi/180]);\n",
    "plt.gca().set_xticklabels(['0$^\\circ$', '10$\\'$', '1$^\\circ$','30$^\\circ$', '90$^\\circ$']);\n",
    "plt.gca().set_ylim(0.001, 1.00)\n",
    "plt.gca().set_yticks([1e-3, 1e-2, 1e-1, 1])\n",
    "plt.gca().set_yticklabels([1e-3, 1e-2, 1e-1, 1])\n",
    "plt.gca().set_xlim((10/60)*math.pi/180, 90*math.pi/180*1.2)\n",
    "plt.gca().tick_params(axis='x',which='minor',bottom=False);\n",
    "plt.grid(linewidth=0.1);\n",
    "plt.tight_layout(rect=(0, 0.05, 0.7, 1))\n",
    "\n",
    "fig.savefig('figures-friday/plotG-loglog.png', dpi=200)"
   ]
  }
 ],
 "metadata": {
  "kernelspec": {
   "display_name": "Python 3",
   "language": "python",
   "name": "python3"
  },
  "language_info": {
   "codemirror_mode": {
    "name": "ipython",
    "version": 3
   },
   "file_extension": ".py",
   "mimetype": "text/x-python",
   "name": "python",
   "nbconvert_exporter": "python",
   "pygments_lexer": "ipython3",
   "version": "3.8.5"
  }
 },
 "nbformat": 4,
 "nbformat_minor": 4
}
